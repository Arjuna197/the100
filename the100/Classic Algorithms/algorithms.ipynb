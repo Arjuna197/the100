{
 "cells": [
  {
   "cell_type": "code",
   "execution_count": 1,
   "metadata": {},
   "outputs": [],
   "source": [
    "def karatsuba(x, y):\n",
    "  #algorithm for doing integer multiplication\n",
    "  x=str(x)\n",
    "  y=str(y)\n",
    "  m = max(len(x), len(y))\n",
    "  m2 = m//2\n",
    "  if min(len(x),len(y))==1:\n",
    "    return int(x)*int(y)\n",
    "  b = int(x[-m2:])\n",
    "  d = int(y[-m2:])\n",
    "  a = int(x[:-m2])\n",
    "  c = int(y[:-m2])\n",
    "  z0 = karatsuba(a,c)\n",
    "  z2 = karatsuba(b,d)\n",
    "  z1 = karatsuba((a+b), (c+d))\n",
    "  return int((10**(m2*2))*z0 + 10**(m2)*(z1-z2-z0)+z2)"
   ]
  },
  {
   "cell_type": "code",
   "execution_count": 3,
   "metadata": {},
   "outputs": [
    {
     "name": "stdout",
     "output_type": "stream",
     "text": [
      "8539734222673567065463550869546574495034888535765114961879601127067743044893204848617875072216249073013374895871952806582723184\n",
      "8539734222673567065463550869546574495034888535765114961879601127067743044893204848617875072216249073013374895871952806582723184\n"
     ]
    }
   ],
   "source": [
    "a = 3141592653589793238462643383279502884197169399375105820974944592\n",
    "b = 2718281828459045235360287471352662497757247093699959574966967627\n",
    "print(karatsuba(a,b))\n",
    "print(a*b)\n"
   ]
  },
  {
   "cell_type": "code",
   "execution_count": 35,
   "metadata": {},
   "outputs": [],
   "source": [
    "def split_inversions(b,c):\n",
    "    i, j, splits = (0,0,0)\n",
    "    d = []\n",
    "    while len(d)<len(b)+len(c):\n",
    "        if b[i]<=c[j]:\n",
    "            d.append(b[i])\n",
    "            if i+1<len(b):i+=1\n",
    "            else:d.extend(c[j:])\n",
    "        else:\n",
    "            d.append(c[j])\n",
    "            splits+=len(b[i:])\n",
    "            if j+1<len(c):j+=1\n",
    "            else: \n",
    "                d.extend(b[i:])\n",
    "    return d, splits\n",
    "def inversions(iterable):\n",
    "    if len(iterable)==1:\n",
    "        return iterable, 0\n",
    "    else:\n",
    "       b, x = inversions(iterable[:len(iterable)//2])\n",
    "       c, y = inversions(iterable[len(iterable)//2:])\n",
    "       d, z = split_inversions(b,c)\n",
    "    return d, x+y+z"
   ]
  },
  {
   "cell_type": "code",
   "execution_count": 37,
   "metadata": {},
   "outputs": [
    {
     "name": "stdout",
     "output_type": "stream",
     "text": [
      "([0, 1, 2, 3, 4, 5], 15)\n"
     ]
    }
   ],
   "source": [
    "a = [5,4,3,2,1,0]\n",
    "print(inversions(a))\n"
   ]
  },
  {
   "cell_type": "code",
   "execution_count": null,
   "metadata": {},
   "outputs": [],
   "source": []
  }
 ],
 "metadata": {
  "kernelspec": {
   "display_name": "Python 3",
   "language": "python",
   "name": "python3"
  },
  "language_info": {
   "codemirror_mode": {
    "name": "ipython",
    "version": 3
   },
   "file_extension": ".py",
   "mimetype": "text/x-python",
   "name": "python",
   "nbconvert_exporter": "python",
   "pygments_lexer": "ipython3",
   "version": "3.6.4"
  }
 },
 "nbformat": 4,
 "nbformat_minor": 2
}
